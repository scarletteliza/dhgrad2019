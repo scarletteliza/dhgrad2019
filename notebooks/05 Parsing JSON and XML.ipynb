{
 "cells": [
  {
   "cell_type": "markdown",
   "metadata": {},
   "source": [
    "# Parsing JSON and XML\n",
    "\n",
    "JSON and XML are structured data formats. XML -- eXtensible Markup Language -- was once very commonly used for text encoding. It's powerful, flexible, and still widely encountered in archival text projects. It's also comparatively complicated to use.\n",
    "\n",
    "JSON -- JavaScript Object Notation -- is a newer, looser, less complicated format for storing arbitrary info. It's typically used for data exchange by Web applications and for non-fulltext and text-adjacent data like word lists, bibliographic records, etc. JSON data looks, feels, and operates much like Python dictionaries.\n",
    "\n",
    "Here's how to do things with each format ...\n",
    "\n",
    "## JSON"
   ]
  },
  {
   "cell_type": "code",
   "execution_count": 1,
   "metadata": {},
   "outputs": [
    {
     "name": "stdout",
     "output_type": "stream",
     "text": [
      "<class 'str'> \n",
      "    {\n",
      "        \"fruit\": \"Apple\",\n",
      "        \"size\": \"Large\",\n",
      "        \"color\": \"Red\"\n",
      "    }\n",
      "\n",
      "<class 'dict'> {'fruit': 'Apple', 'size': 'Large', 'color': 'Red'}\n"
     ]
    }
   ],
   "source": [
    "import json\n",
    "\n",
    "s = \"\"\"\n",
    "    {\n",
    "        \"fruit\": \"Apple\",\n",
    "        \"size\": \"Large\",\n",
    "        \"color\": \"Red\"\n",
    "    }\n",
    "\"\"\"\n",
    "print(type(s), s)\n",
    "\n",
    "j = json.loads(s)\n",
    "print(type(j), j)"
   ]
  },
  {
   "cell_type": "code",
   "execution_count": 2,
   "metadata": {},
   "outputs": [
    {
     "data": {
      "text/plain": [
       "'Apple'"
      ]
     },
     "execution_count": 2,
     "metadata": {},
     "output_type": "execute_result"
    }
   ],
   "source": [
    "j['fruit']"
   ]
  },
  {
   "cell_type": "code",
   "execution_count": 3,
   "metadata": {},
   "outputs": [
    {
     "name": "stdout",
     "output_type": "stream",
     "text": [
      "{'fruit': 'Apple', 'size': 'Large', 'color': 'Red', 'price': 1}\n",
      "{\"fruit\": \"Apple\", \"size\": \"Large\", \"color\": \"Red\", \"price\": 1}\n"
     ]
    }
   ],
   "source": [
    "j['price'] = 1\n",
    "s = json.dumps(j)\n",
    "print(j)\n",
    "print(s)"
   ]
  },
  {
   "cell_type": "code",
   "execution_count": 4,
   "metadata": {},
   "outputs": [
    {
     "data": {
      "text/plain": [
       "{'fruit': 'Apple',\n",
       " 'size': 'Large',\n",
       " 'color': 'Red',\n",
       " 'price': 1,\n",
       " 'details': {'variety': 'Braeburn', 'tart': True}}"
      ]
     },
     "execution_count": 4,
     "metadata": {},
     "output_type": "execute_result"
    }
   ],
   "source": [
    "j['details'] = {}\n",
    "j['details']['variety'] = 'Braeburn'\n",
    "j['details']['tart'] = True\n",
    "j"
   ]
  },
  {
   "cell_type": "code",
   "execution_count": 5,
   "metadata": {},
   "outputs": [
    {
     "data": {
      "text/plain": [
       "{'variety': 'Braeburn', 'tart': True}"
      ]
     },
     "execution_count": 5,
     "metadata": {},
     "output_type": "execute_result"
    }
   ],
   "source": [
    "j['details']"
   ]
  },
  {
   "cell_type": "code",
   "execution_count": 6,
   "metadata": {},
   "outputs": [
    {
     "data": {
      "text/plain": [
       "True"
      ]
     },
     "execution_count": 6,
     "metadata": {},
     "output_type": "execute_result"
    }
   ],
   "source": [
    "j['details']['tart']"
   ]
  },
  {
   "cell_type": "markdown",
   "metadata": {},
   "source": [
    "## XML\n",
    "\n",
    "XML looks kind of like HTML, i.e., it's made up of tagged text. This is geerally good, though it can get tricky in real life due to issues about nesting tags. We'll ignore that complication, since we won't be doing any encoding, just decoding and processing."
   ]
  },
  {
   "cell_type": "code",
   "execution_count": 7,
   "metadata": {},
   "outputs": [],
   "source": [
    "x = \"\"\"\n",
    "<note>\n",
    "    <to>Bob</to>\n",
    "    <from>Alice</from>\n",
    "    <heading>Test!</heading>\n",
    "    <body>\n",
    "        <p>This is the first paragraph.</p>\n",
    "        <p type='special'>This is another paragraph.</p>\n",
    "        <p>And a third p element.</p>\n",
    "    </body>\n",
    "</note>\n",
    "\"\"\""
   ]
  },
  {
   "cell_type": "code",
   "execution_count": 8,
   "metadata": {},
   "outputs": [
    {
     "name": "stdout",
     "output_type": "stream",
     "text": [
      "<note>\n",
      " <to>\n",
      "  Bob\n",
      " </to>\n",
      " <from>\n",
      "  Alice\n",
      " </from>\n",
      " <heading>\n",
      "  Test!\n",
      " </heading>\n",
      " <body>\n",
      "  <p>\n",
      "   This is the first paragraph.\n",
      "  </p>\n",
      "  <p type=\"special\">\n",
      "   This is another paragraph.\n",
      "  </p>\n",
      "  <p>\n",
      "   And a third p element.\n",
      "  </p>\n",
      " </body>\n",
      "</note>\n",
      "\n"
     ]
    }
   ],
   "source": [
    "from bs4 import BeautifulSoup\n",
    "\n",
    "soup = BeautifulSoup(x, \"html.parser\")\n",
    "print(soup.prettify())"
   ]
  },
  {
   "cell_type": "code",
   "execution_count": 9,
   "metadata": {},
   "outputs": [
    {
     "name": "stdout",
     "output_type": "stream",
     "text": [
      "Author: Alice\n",
      "Recipient: Bob\n",
      "Wordcount: 14\n",
      "Body paragraphs: 3\n",
      "Special content: This is another paragraph.\n"
     ]
    }
   ],
   "source": [
    "# Pull some data and do things with it.\n",
    "\n",
    "author = soup.find('from').get_text() # 'from' is a reserved word\n",
    "recipient = soup.to.get_text() # 'to' is not reserved, so this shortcut works\n",
    "wc = len(soup.body.get_text().split())\n",
    "pars = len(soup.body.find_all('p'))\n",
    "spec = soup.find(type=\"special\").get_text()\n",
    "\n",
    "print(\"Author:\", author)\n",
    "print(\"Recipient:\", recipient)\n",
    "print(\"Wordcount:\", wc)\n",
    "print(\"Body paragraphs:\", pars)\n",
    "print(\"Special content:\", spec)"
   ]
  },
  {
   "cell_type": "code",
   "execution_count": 10,
   "metadata": {},
   "outputs": [
    {
     "name": "stdout",
     "output_type": "stream",
     "text": [
      "<p>This is the first paragraph.</p>\n",
      "This is the first paragraph.\n",
      "\n",
      "<p type=\"special\">This is another paragraph.</p>\n",
      "This is another paragraph.\n",
      "\n",
      "<p>And a third p element.</p>\n",
      "And a third p element.\n",
      "\n"
     ]
    }
   ],
   "source": [
    "# Iterate over all instances of a tag type\n",
    "for par in soup.find_all('p'):\n",
    "    print(par)\n",
    "    print(par.get_text())\n",
    "    print()"
   ]
  },
  {
   "cell_type": "code",
   "execution_count": null,
   "metadata": {},
   "outputs": [],
   "source": []
  }
 ],
 "metadata": {
  "kernelspec": {
   "display_name": "Python 3",
   "language": "python",
   "name": "python3"
  },
  "language_info": {
   "codemirror_mode": {
    "name": "ipython",
    "version": 3
   },
   "file_extension": ".py",
   "mimetype": "text/x-python",
   "name": "python",
   "nbconvert_exporter": "python",
   "pygments_lexer": "ipython3",
   "version": "3.7.1"
  }
 },
 "nbformat": 4,
 "nbformat_minor": 2
}
